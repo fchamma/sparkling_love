{
 "cells": [
  {
   "cell_type": "markdown",
   "metadata": {},
   "source": [
    "# EDA"
   ]
  },
  {
   "cell_type": "code",
   "execution_count": 25,
   "metadata": {
    "collapsed": false
   },
   "outputs": [
    {
     "ename": "TypeError",
     "evalue": "set_style() got an unexpected keyword argument 'palette'",
     "output_type": "error",
     "traceback": [
      "\u001b[0;31m---------------------------------------------------------------------------\u001b[0m",
      "\u001b[0;31mTypeError\u001b[0m                                 Traceback (most recent call last)",
      "\u001b[0;32m<ipython-input-25-ace2074b8888>\u001b[0m in \u001b[0;36m<module>\u001b[0;34m()\u001b[0m\n\u001b[1;32m      1\u001b[0m \u001b[0mget_ipython\u001b[0m\u001b[0;34m(\u001b[0m\u001b[0;34m)\u001b[0m\u001b[0;34m.\u001b[0m\u001b[0mmagic\u001b[0m\u001b[0;34m(\u001b[0m\u001b[0;34mu'matplotlib inline'\u001b[0m\u001b[0;34m)\u001b[0m\u001b[0;34m\u001b[0m\u001b[0m\n\u001b[0;32m----> 2\u001b[0;31m \u001b[0;32mimport\u001b[0m \u001b[0mseaborn\u001b[0m \u001b[0;32mas\u001b[0m \u001b[0msns\u001b[0m \u001b[0;34m;\u001b[0m \u001b[0msns\u001b[0m\u001b[0;34m.\u001b[0m\u001b[0mset_style\u001b[0m\u001b[0;34m(\u001b[0m\u001b[0;34m\"white\"\u001b[0m\u001b[0;34m,\u001b[0m \u001b[0mpalette\u001b[0m\u001b[0;34m=\u001b[0m\u001b[0;34m\"muted\"\u001b[0m\u001b[0;34m)\u001b[0m \u001b[0;34m;\u001b[0m\u001b[0;34m\u001b[0m\u001b[0m\n\u001b[0m\u001b[1;32m      3\u001b[0m \u001b[0;32mimport\u001b[0m \u001b[0mpandas\u001b[0m \u001b[0;32mas\u001b[0m \u001b[0mpd\u001b[0m\u001b[0;34m\u001b[0m\u001b[0m\n\u001b[1;32m      4\u001b[0m \u001b[0;32mimport\u001b[0m \u001b[0mmatplotlib\u001b[0m\u001b[0;34m.\u001b[0m\u001b[0mpyplot\u001b[0m \u001b[0;32mas\u001b[0m \u001b[0mplt\u001b[0m\u001b[0;34m\u001b[0m\u001b[0m\n\u001b[1;32m      5\u001b[0m \u001b[0;32mimport\u001b[0m \u001b[0mnumpy\u001b[0m \u001b[0;32mas\u001b[0m \u001b[0mnp\u001b[0m\u001b[0;34m\u001b[0m\u001b[0m\n",
      "\u001b[0;31mTypeError\u001b[0m: set_style() got an unexpected keyword argument 'palette'"
     ]
    }
   ],
   "source": [
    "%matplotlib inline\n",
    "import seaborn as sns ; sns.set_style(\"white\") ;\n",
    "import pandas as pd\n",
    "import matplotlib.pyplot as plt\n",
    "import numpy as np"
   ]
  },
  {
   "cell_type": "code",
   "execution_count": 26,
   "metadata": {
    "collapsed": false
   },
   "outputs": [],
   "source": [
    "ratings = pd.read_csv(\"ratings.csv\", header = None)\n",
    "gender = pd.read_csv(\"gender.csv\", header = None)"
   ]
  },
  {
   "cell_type": "code",
   "execution_count": 3,
   "metadata": {
    "collapsed": false
   },
   "outputs": [],
   "source": [
    "gender.columns = ['user', 'gender']\n",
    "ratings.columns = ['user1', 'user2', \"score\"]"
   ]
  },
  {
   "cell_type": "code",
   "execution_count": 4,
   "metadata": {
    "collapsed": false
   },
   "outputs": [
    {
     "data": {
      "text/plain": [
       "<matplotlib.text.Text at 0x109037110>"
      ]
     },
     "execution_count": 4,
     "metadata": {},
     "output_type": "execute_result"
    },
    {
     "data": {
      "image/png": "[encoded data removed]",
      "text/plain": [
       "<matplotlib.figure.Figure at 0x10df85c90>"
      ]
     },
     "metadata": {},
     "output_type": "display_data"
    }
   ],
   "source": [
    "color_map = {'F' : 'pink', \n",
    "             'M' : 'blue', \n",
    "             'U' : 'grey'}\n",
    "\n",
    "plt.figure(figsize=(9, 6))\n",
    "\n",
    "g_plot = sns.countplot(data = gender, \n",
    "                       x = 'gender', \n",
    "                       order = ['M','F','U'], \n",
    "                       palette = color_map, \n",
    "                       linewidth=2,\n",
    "                       edgecolor =\"black\")\n",
    "\n",
    "g_plot.set_ylabel('Count')\n",
    "g_plot.set_xlabel('Gender')\n",
    "\n",
    "#plt.savefig(\"full_gender.pdf\")\n",
    "\n"
   ]
  },
  {
   "cell_type": "code",
   "execution_count": 5,
   "metadata": {
    "collapsed": false
   },
   "outputs": [
    {
     "data": {
      "text/plain": [
       "<matplotlib.text.Text at 0x10b4230d0>"
      ]
     },
     "execution_count": 5,
     "metadata": {},
     "output_type": "execute_result"
    },
    {
     "data": {
      "image/png": "[encoded data removed]",
      "text/plain": [
       "<matplotlib.figure.Figure at 0x10dffc250>"
      ]
     },
     "metadata": {},
     "output_type": "display_data"
    }
   ],
   "source": [
    "\n",
    "plt.figure(figsize=(9, 6))\n",
    "\n",
    "g_plot = sns.countplot(data = gender, \n",
    "                       x = 'gender', \n",
    "                       order = ['M','F'], \n",
    "                       palette = color_map, \n",
    "                       linewidth=2,\n",
    "                       edgecolor =\"black\")\n",
    "\n",
    "g_plot.set_ylabel('Count')\n",
    "g_plot.set_xlabel('Gender')\n",
    "\n",
    "#plt.savefig(\"gender_no_unkowns.pdf\")\n",
    "\n",
    "\n"
   ]
  },
  {
   "cell_type": "code",
   "execution_count": 6,
   "metadata": {
    "collapsed": false
   },
   "outputs": [],
   "source": [
    "full = pd.merge(ratings, gender, how='left', on=None, left_on='user1', right_on='user')\n",
    "full2 =  pd.merge(full, gender, how='left', on=None, left_on='user2', right_on='user')\n",
    "result = full2[['user1','user2','gender_x','gender_y','score']]"
   ]
  },
  {
   "cell_type": "code",
   "execution_count": null,
   "metadata": {
    "collapsed": false
   },
   "outputs": [],
   "source": []
  },
  {
   "cell_type": "code",
   "execution_count": null,
   "metadata": {
    "collapsed": false
   },
   "outputs": [],
   "source": []
  },
  {
   "cell_type": "code",
   "execution_count": 7,
   "metadata": {
    "collapsed": false
   },
   "outputs": [
    {
     "data": {
      "text/html": [
       "<div>\n",
       "<table border=\"1\" class=\"dataframe\">\n",
       "  <thead>\n",
       "    <tr style=\"text-align: right;\">\n",
       "      <th></th>\n",
       "      <th>score</th>\n",
       "    </tr>\n",
       "    <tr>\n",
       "      <th>gender_x</th>\n",
       "      <th></th>\n",
       "    </tr>\n",
       "  </thead>\n",
       "  <tbody>\n",
       "    <tr>\n",
       "      <th>F</th>\n",
       "      <td>6.358190</td>\n",
       "    </tr>\n",
       "    <tr>\n",
       "      <th>M</th>\n",
       "      <td>5.031327</td>\n",
       "    </tr>\n",
       "    <tr>\n",
       "      <th>U</th>\n",
       "      <td>5.860144</td>\n",
       "    </tr>\n",
       "  </tbody>\n",
       "</table>\n",
       "</div>"
      ],
      "text/plain": [
       "             score\n",
       "gender_x          \n",
       "F         6.358190\n",
       "M         5.031327\n",
       "U         5.860144"
      ]
     },
     "execution_count": 7,
     "metadata": {},
     "output_type": "execute_result"
    }
   ],
   "source": [
    "means = result[['gender_x', 'score']].groupby('gender_x').mean()\n",
    "means"
   ]
  },
  {
   "cell_type": "code",
   "execution_count": 8,
   "metadata": {
    "collapsed": false
   },
   "outputs": [],
   "source": [
    "Males_Males = result.loc[((result['gender_x'] == 'M') & (result['gender_y'] == 'M')),:]\n",
    "Males_Female =  result.loc[((result['gender_x'] == 'M') & (result['gender_y'] == 'F')),:]\n",
    "\n",
    "Female_Male = result.loc[((result['gender_x'] == 'F') & (result['gender_y'] == 'M')),:]\n",
    "Female_Female = result.loc[((result['gender_x'] == 'F') & (result['gender_y'] == 'F')),:]"
   ]
  },
  {
   "cell_type": "code",
   "execution_count": 9,
   "metadata": {
    "collapsed": false
   },
   "outputs": [
    {
     "name": "stdout",
     "output_type": "stream",
     "text": [
      "Male rating males: 4.46144336541\n",
      "Male rating Female: 5.48394431546\n",
      "Female rating males: 6.92284280661\n",
      "Female rating Females: 5.13514019894\n"
     ]
    }
   ],
   "source": [
    "male_male_mean = Males_Males[['gender_x', 'score']].groupby('gender_x').mean()\n",
    "male_fem_mean = Males_Female[['gender_x', 'score']].groupby('gender_x').mean()\n",
    "fem_male_mean = Female_Male[['gender_x', 'score']].groupby('gender_x').mean()\n",
    "fem_fem_mean = Female_Female[['gender_x', 'score']].groupby('gender_x').mean()\n",
    "\n",
    "mmsd = Males_Males[['gender_x', 'score']].groupby('gender_x').std()\n",
    "mfsd = Males_Female[['gender_x', 'score']].groupby('gender_x').std()\n",
    "fmsd = Female_Male[['gender_x', 'score']].groupby('gender_x').std()\n",
    "ffsd = Female_Female[['gender_x', 'score']].groupby('gender_x').std()\n",
    "\n",
    "\n",
    "print \"Male rating males:\", male_male_mean.ix[0,0]\n",
    "print \"Male rating Female:\", male_fem_mean.ix[0,0]\n",
    "\n",
    "print \"Female rating males:\", fem_male_mean.ix[0,0]\n",
    "print \"Female rating Females:\", fem_fem_mean.ix[0,0]\n"
   ]
  },
  {
   "cell_type": "code",
   "execution_count": 39,
   "metadata": {
    "collapsed": false
   },
   "outputs": [
    {
     "data": {
      "image/png": "[encoded data removed]",
      "text/plain": [
       "<matplotlib.figure.Figure at 0x116b14d10>"
      ]
     },
     "metadata": {},
     "output_type": "display_data"
    }
   ],
   "source": [
    "plt.figure(figsize=(9, 6))\n",
    "\n",
    "m_2_m = sns.countplot(data = Males_Males, \n",
    "                       x = 'score', \n",
    "                       linewidth=2,\n",
    "                       order = np.arange(1,11,1),\n",
    "                       color = \"blue\",\n",
    "                       edgecolor =\"black\")\n",
    "\n",
    "\n",
    "m_2_m.set_ylabel('Count')\n",
    "m_2_m.set_xlabel('Rating Given')\n",
    "\n",
    "m_2_m.annotate('Mean: %2.2f ' %(male_male_mean.ix[0,0]), xy=(4, 62222), xytext=(6, 210000))\n",
    "m_2_m.annotate('SD: %2.2f ' %(mmsd.ix[0,0]), xy=(5, 6), xytext=(6, 200000))\n",
    "#m_2_m.set(yticks=[])    \n",
    "\n",
    "plt.savefig(\"males_to_males.pdf\")"
   ]
  },
  {
   "cell_type": "code",
   "execution_count": 40,
   "metadata": {
    "collapsed": false
   },
   "outputs": [
    {
     "data": {
      "image/png": "[encoded data removed]",
      "text/plain": [
       "<matplotlib.figure.Figure at 0x116e86310>"
      ]
     },
     "metadata": {},
     "output_type": "display_data"
    }
   ],
   "source": [
    "plt.figure(figsize=(9, 6))\n",
    "\n",
    "\n",
    "f_2_m = sns.countplot(data = Female_Male, \n",
    "                       x = 'score', \n",
    "                       linewidth=2,\n",
    "                       order = np.arange(1,11,1),\n",
    "                       color = \"pink\",\n",
    "                       edgecolor =\"black\")\n",
    "\n",
    "f_2_m.set_ylabel('Count')\n",
    "f_2_m.set_xlabel('Rating Given')\n",
    "\n",
    "\n",
    "f_2_m.annotate('Mean: %2.2f ' %(fem_male_mean.ix[0,0]), xy=(4, 62222), xytext=(6, 1805000))\n",
    "f_2_m.annotate('SD: %2.2f ' %(fmsd.ix[0,0]), xy=(5, 6), xytext=(6, 1720000))\n",
    "#f_2_m.set(yticks=[])\n",
    "\n",
    "plt.savefig(\"female_to_males.pdf\")"
   ]
  },
  {
   "cell_type": "code",
   "execution_count": 41,
   "metadata": {
    "collapsed": false
   },
   "outputs": [
    {
     "data": {
      "image/png": "[encoded data removed]",
      "text/plain": [
       "<matplotlib.figure.Figure at 0x11707d610>"
      ]
     },
     "metadata": {},
     "output_type": "display_data"
    }
   ],
   "source": [
    "plt.figure(figsize=(9, 6))\n",
    "\n",
    "m_2_f = sns.countplot(data = Males_Female, \n",
    "                       x = 'score', \n",
    "                       linewidth=2,\n",
    "                       order = np.arange(1,11,1),\n",
    "                       color = \"blue\",\n",
    "                       edgecolor =\"black\")\n",
    "\n",
    "m_2_f.set_ylabel('Count')\n",
    "m_2_f.set_xlabel('Rating Given')\n",
    "m_2_f.annotate('Mean: %2.2f ' %(male_fem_mean.ix[0,0]), xy=(4, 62222), xytext=(6, 550000))\n",
    "m_2_f.annotate('SD: %2.2f ' %(mfsd.ix[0,0]), xy=(5, 6), xytext=(6, 528000))\n",
    "\n",
    "plt.savefig(\"male_to_female.pdf\")\n",
    "#m_2_f.set(yticks=[])    \n",
    "    "
   ]
  },
  {
   "cell_type": "code",
   "execution_count": 42,
   "metadata": {
    "collapsed": false
   },
   "outputs": [
    {
     "data": {
      "image/png": "[encoded data removed]",
      "text/plain": [
       "<matplotlib.figure.Figure at 0x11745f510>"
      ]
     },
     "metadata": {},
     "output_type": "display_data"
    }
   ],
   "source": [
    "plt.figure(figsize=(9, 6))\n",
    "\n",
    "f_2_f = sns.countplot(data = Female_Female, \n",
    "                       x = 'score', \n",
    "                       linewidth=2,\n",
    "                       order = np.arange(1,11,1),\n",
    "                       color = \"pink\",\n",
    "                       edgecolor =\"black\")\n",
    "\n",
    "\n",
    "f_2_f.set_ylabel('  ')\n",
    "f_2_f.set_xlabel('Rating Given')\n",
    "\n",
    "f_2_f.annotate('Mean: %2.2f ' %(fem_fem_mean.ix[0,0]), xy=(5, 6), xytext=(6, 230000))\n",
    "f_2_f.annotate('SD: %2.2f ' %(ffsd.ix[0,0]), xy=(5, 6), xytext=(6, 220000))\n",
    "#f_2_f.set(yticks=[])\n",
    "plt.savefig(\"female_to_female.pdf\")\n",
    "\n"
   ]
  },
  {
   "cell_type": "code",
   "execution_count": null,
   "metadata": {
    "collapsed": false
   },
   "outputs": [],
   "source": []
  },
  {
   "cell_type": "code",
   "execution_count": null,
   "metadata": {
    "collapsed": false
   },
   "outputs": [],
   "source": []
  },
  {
   "cell_type": "code",
   "execution_count": null,
   "metadata": {
    "collapsed": false
   },
   "outputs": [],
   "source": []
  },
  {
   "cell_type": "code",
   "execution_count": null,
   "metadata": {
    "collapsed": true
   },
   "outputs": [],
   "source": []
  }
 ],
 "metadata": {
  "kernelspec": {
   "display_name": "Python 2",
   "language": "python",
   "name": "python2"
  },
  "language_info": {
   "codemirror_mode": {
    "name": "ipython",
    "version": 2
   },
   "file_extension": ".py",
   "mimetype": "text/x-python",
   "name": "python",
   "nbconvert_exporter": "python",
   "pygments_lexer": "ipython2",
   "version": "2.7.10"
  }
 },
 "nbformat": 4,
 "nbformat_minor": 0
}
